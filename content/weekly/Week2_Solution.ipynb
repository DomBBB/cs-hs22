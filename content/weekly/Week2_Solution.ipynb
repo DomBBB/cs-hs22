{
 "cells": [
  {
   "cell_type": "markdown",
   "metadata": {},
   "source": [
    "# Notebook 2"
   ]
  },
  {
   "cell_type": "markdown",
   "metadata": {},
   "source": [
    "## If/Elif/Else & Conditions"
   ]
  },
  {
   "cell_type": "markdown",
   "metadata": {},
   "source": [
    "Define the variable `x` being logical/boolean true (1) and the variable `y` being logical/boolean false (0)."
   ]
  },
  {
   "cell_type": "code",
   "execution_count": 1,
   "metadata": {},
   "outputs": [],
   "source": [
    "x = True\n",
    "y = False"
   ]
  },
  {
   "cell_type": "code",
   "execution_count": 2,
   "metadata": {},
   "outputs": [],
   "source": [
    "assert isinstance(x, bool)\n",
    "assert int(x) == 1\n",
    "assert isinstance(y, bool)\n",
    "assert int(y) == 0"
   ]
  },
  {
   "cell_type": "markdown",
   "metadata": {},
   "source": [
    "Define the variable `age` being 24. Create another variable `age_check` that checks whether age is larger or equal to 20."
   ]
  },
  {
   "cell_type": "code",
   "execution_count": 3,
   "metadata": {},
   "outputs": [],
   "source": [
    "age = 24\n",
    "age_check = age >= 20"
   ]
  },
  {
   "cell_type": "code",
   "execution_count": 4,
   "metadata": {},
   "outputs": [],
   "source": [
    "assert age == 24\n",
    "assert isinstance(age_check, bool)\n",
    "assert int(x) == 1"
   ]
  },
  {
   "cell_type": "markdown",
   "metadata": {},
   "source": [
    "Create an if statement that checks whether the variable `age` is larger or equal to 20. If it is store `\"old\"` in a variable called `age_check`. Otherwise do nothing."
   ]
  },
  {
   "cell_type": "code",
   "execution_count": 5,
   "metadata": {},
   "outputs": [],
   "source": [
    "if age >= 20:\n",
    "    age_check = \"old\""
   ]
  },
  {
   "cell_type": "code",
   "execution_count": 6,
   "metadata": {},
   "outputs": [],
   "source": [
    "assert age_check == \"old\""
   ]
  },
  {
   "cell_type": "markdown",
   "metadata": {},
   "source": [
    "Create an if statement that checks whether the variable `age` is larger or equal to 30. If it is store `\"old\"` in a variable called `age_check`. Otherwise store `\"young\"` in the variable `age_check`."
   ]
  },
  {
   "cell_type": "code",
   "execution_count": 7,
   "metadata": {},
   "outputs": [],
   "source": [
    "if age >= 30:\n",
    "    age_check = \"old\"\n",
    "else:\n",
    "    age_check = \"young\""
   ]
  },
  {
   "cell_type": "code",
   "execution_count": 8,
   "metadata": {},
   "outputs": [],
   "source": [
    "assert age_check == \"young\""
   ]
  },
  {
   "cell_type": "markdown",
   "metadata": {},
   "source": [
    "Create an if statement that checks whether the variable `age` is larger or equal to 30. If it is store `\"old\"` in a variable called `age_check`. Otherwise check whether the variable `age` is larger or equal to 22. If it is store `\"almost old\"` in the variable `age_check`. Otherwise do nothing."
   ]
  },
  {
   "cell_type": "code",
   "execution_count": 9,
   "metadata": {},
   "outputs": [],
   "source": [
    "if age >= 30:\n",
    "    age_check = \"old\"\n",
    "elif age >= 22:\n",
    "    age_check = \"almost old\""
   ]
  },
  {
   "cell_type": "code",
   "execution_count": 10,
   "metadata": {},
   "outputs": [],
   "source": [
    "assert age_check == \"almost old\""
   ]
  },
  {
   "cell_type": "markdown",
   "metadata": {},
   "source": [
    "Create an if statement that checks whether the variable `age` is larger or equal to 30. If it is store `\"old\"` in a variable called `age_check`. Otherwise check whether the variable `age` is larger or equal to 25. If it is store `\"almost old\"` in the variable `age_check`. Otherwise store `\"young\"` in the variable `age_check`."
   ]
  },
  {
   "cell_type": "code",
   "execution_count": 11,
   "metadata": {},
   "outputs": [],
   "source": [
    "if age >= 30:\n",
    "    age_check = \"old\"\n",
    "elif age >= 25:\n",
    "    age_check = \"almost old\"\n",
    "else:\n",
    "    age_check = \"young\""
   ]
  },
  {
   "cell_type": "code",
   "execution_count": 12,
   "metadata": {},
   "outputs": [],
   "source": [
    "assert age_check == \"young\""
   ]
  },
  {
   "cell_type": "markdown",
   "metadata": {},
   "source": [
    "Create an if statement that checks whether the variable `age` is smaller or equal to 30. If it is store `\"below 30\"` in a variable called `age_check`. Then create another if statement that checks whether the variable `age` is smaller or equal to 25. If it is store `\"below 25\"` in a variable called `age_check_2`. **Do you understand the difference between If/Elif and If/If?**"
   ]
  },
  {
   "cell_type": "code",
   "execution_count": 13,
   "metadata": {},
   "outputs": [],
   "source": [
    "if age <= 30:\n",
    "    age_check = \"below 30\"\n",
    "if age <= 25:\n",
    "    age_check_2 = \"below 25\""
   ]
  },
  {
   "cell_type": "code",
   "execution_count": 14,
   "metadata": {},
   "outputs": [],
   "source": [
    "assert age_check == \"below 30\"\n",
    "assert age_check_2 == \"below 25\""
   ]
  },
  {
   "cell_type": "markdown",
   "metadata": {},
   "source": [
    "## Loops"
   ]
  },
  {
   "cell_type": "markdown",
   "metadata": {},
   "source": [
    "### While Loop"
   ]
  },
  {
   "cell_type": "markdown",
   "metadata": {},
   "source": [
    "Create a variable `counter` being equal to 0. Then create a while loop that checks whether this variable is smaller than 5. If it is (=when the while condition evaluates to True) increase the counter by adding the number 1, if not (=when the while condition does not evaluate to True anymore) print out the counter variable."
   ]
  },
  {
   "cell_type": "code",
   "execution_count": 15,
   "metadata": {},
   "outputs": [
    {
     "name": "stdout",
     "output_type": "stream",
     "text": [
      "5\n"
     ]
    }
   ],
   "source": [
    "counter = 0\n",
    "while counter < 5:\n",
    "    counter += 1\n",
    "print(counter)"
   ]
  },
  {
   "cell_type": "code",
   "execution_count": 16,
   "metadata": {},
   "outputs": [],
   "source": [
    "assert counter == 5"
   ]
  },
  {
   "cell_type": "markdown",
   "metadata": {},
   "source": [
    "### For Loop"
   ]
  },
  {
   "cell_type": "markdown",
   "metadata": {},
   "source": [
    "We'll introduce lists later. For now it is only important for you to understand that we can store several values in a list."
   ]
  },
  {
   "cell_type": "markdown",
   "metadata": {},
   "source": [
    "We can iterate over different iterators. This means we go over a collection and for each element in this collection we do something. Here we'll introduce three different iterators."
   ]
  },
  {
   "cell_type": "code",
   "execution_count": 17,
   "metadata": {},
   "outputs": [],
   "source": [
    "a_list = [1, \"Coconut\", 45, 23.7]\n",
    "a_range = range(2, 100, 2) # This iterator is explained in more detail in the Powerpoint.\n",
    "a_string = \"This is a string\""
   ]
  },
  {
   "cell_type": "markdown",
   "metadata": {},
   "source": [
    "Let us visualize what elements these 3 iterators contain."
   ]
  },
  {
   "cell_type": "code",
   "execution_count": 18,
   "metadata": {},
   "outputs": [
    {
     "name": "stdout",
     "output_type": "stream",
     "text": [
      "[1, 'Coconut', 45, 23.7]\n",
      "[1, 'Coconut', 45, 23.7]\n",
      "range(2, 100, 2)\n",
      "[2, 4, 6, 8, 10, 12, 14, 16, 18, 20, 22, 24, 26, 28, 30, 32, 34, 36, 38, 40, 42, 44, 46, 48, 50, 52, 54, 56, 58, 60, 62, 64, 66, 68, 70, 72, 74, 76, 78, 80, 82, 84, 86, 88, 90, 92, 94, 96, 98]\n",
      "This is a string\n",
      "['T', 'h', 'i', 's', ' ', 'i', 's', ' ', 'a', ' ', 's', 't', 'r', 'i', 'n', 'g']\n"
     ]
    }
   ],
   "source": [
    "print(a_list)\n",
    "print(a_list)\n",
    "\n",
    "print(a_range)\n",
    "print(list(a_range))\n",
    "\n",
    "print(a_string)\n",
    "print(list(a_string))"
   ]
  },
  {
   "cell_type": "markdown",
   "metadata": {},
   "source": [
    "Define the variable `x` being 0. Then use a for loop to iterate over all even numbers between and **including** 0 and 100. Add each of these numbers to the variable x."
   ]
  },
  {
   "cell_type": "code",
   "execution_count": 19,
   "metadata": {},
   "outputs": [],
   "source": [
    "x = 0\n",
    "for num in range(0, 101, 2):\n",
    "    x += num"
   ]
  },
  {
   "cell_type": "code",
   "execution_count": 20,
   "metadata": {},
   "outputs": [],
   "source": [
    "assert x == 2550"
   ]
  },
  {
   "cell_type": "markdown",
   "metadata": {},
   "source": [
    "Define the variable `y` being \"0\" (0 represented as a string). Then use a for loop to iterate over all even numbers between and **including** 0 and 100. Concatenate (adding together strings) each of these numbers to the variable y."
   ]
  },
  {
   "cell_type": "code",
   "execution_count": 21,
   "metadata": {},
   "outputs": [],
   "source": [
    "y = \"0\"\n",
    "for num in range(0, 101, 2):\n",
    "    y += str(num)"
   ]
  },
  {
   "cell_type": "code",
   "execution_count": 22,
   "metadata": {},
   "outputs": [],
   "source": [
    "assert y == \"002468101214161820222426283032343638404244464850525456586062646668707274767880828486889092949698100\""
   ]
  },
  {
   "cell_type": "markdown",
   "metadata": {},
   "source": [
    "Define the variable `z` being 0. Then use a for loop to iterate over the string `\"102030405060708090\"`. Add each of these numbers to the variable z"
   ]
  },
  {
   "cell_type": "code",
   "execution_count": 23,
   "metadata": {},
   "outputs": [],
   "source": [
    "z = 0\n",
    "for num in \"102030405060708090\":\n",
    "    z += int(num)"
   ]
  },
  {
   "cell_type": "code",
   "execution_count": 24,
   "metadata": {},
   "outputs": [],
   "source": [
    "assert z == 45"
   ]
  },
  {
   "cell_type": "markdown",
   "metadata": {},
   "source": [
    "## Functions"
   ]
  },
  {
   "cell_type": "markdown",
   "metadata": {},
   "source": [
    "Create a function called `my_function` that prints `\"Hello World!\"`. Then call the function."
   ]
  },
  {
   "cell_type": "code",
   "execution_count": 25,
   "metadata": {},
   "outputs": [
    {
     "name": "stdout",
     "output_type": "stream",
     "text": [
      "Hello World!\n"
     ]
    }
   ],
   "source": [
    "def my_function():\n",
    "    print(\"Hello World!\")\n",
    "    \n",
    "my_function()"
   ]
  },
  {
   "cell_type": "code",
   "execution_count": 26,
   "metadata": {},
   "outputs": [],
   "source": [
    "assert \"Hello World!\" in _ih[-2]"
   ]
  },
  {
   "cell_type": "markdown",
   "metadata": {},
   "source": [
    "Now define the variable `x` being equal to the function call. Then print x. **Do you understand why x is None?**"
   ]
  },
  {
   "cell_type": "code",
   "execution_count": 27,
   "metadata": {},
   "outputs": [
    {
     "name": "stdout",
     "output_type": "stream",
     "text": [
      "Hello World!\n",
      "None\n"
     ]
    }
   ],
   "source": [
    "x = my_function()\n",
    "print(x)"
   ]
  },
  {
   "cell_type": "code",
   "execution_count": 28,
   "metadata": {},
   "outputs": [],
   "source": [
    "assert x == None"
   ]
  },
  {
   "cell_type": "markdown",
   "metadata": {},
   "source": [
    "Create a function called `my_function` that stores the result of adding 2 and 3 in the variable `c`. Then return the variable c. Now define the variable `x` being equal to the function call. Print x and then print c. **Do you understand why you can not print c? Do you understand how the return statement ties together with the None above and the question about c?**"
   ]
  },
  {
   "cell_type": "code",
   "execution_count": 29,
   "metadata": {},
   "outputs": [
    {
     "name": "stdout",
     "output_type": "stream",
     "text": [
      "5\n"
     ]
    },
    {
     "ename": "NameError",
     "evalue": "name 'c' is not defined",
     "output_type": "error",
     "traceback": [
      "\u001b[1;31m---------------------------------------------------------------------------\u001b[0m",
      "\u001b[1;31mNameError\u001b[0m                                 Traceback (most recent call last)",
      "\u001b[1;32m<ipython-input-29-8334782bf7aa>\u001b[0m in \u001b[0;36m<module>\u001b[1;34m\u001b[0m\n\u001b[0;32m      5\u001b[0m \u001b[0mx\u001b[0m \u001b[1;33m=\u001b[0m \u001b[0mmy_function\u001b[0m\u001b[1;33m(\u001b[0m\u001b[1;33m)\u001b[0m\u001b[1;33m\u001b[0m\u001b[1;33m\u001b[0m\u001b[0m\n\u001b[0;32m      6\u001b[0m \u001b[0mprint\u001b[0m\u001b[1;33m(\u001b[0m\u001b[0mx\u001b[0m\u001b[1;33m)\u001b[0m\u001b[1;33m\u001b[0m\u001b[1;33m\u001b[0m\u001b[0m\n\u001b[1;32m----> 7\u001b[1;33m \u001b[0mprint\u001b[0m\u001b[1;33m(\u001b[0m\u001b[0mc\u001b[0m\u001b[1;33m)\u001b[0m\u001b[1;33m\u001b[0m\u001b[1;33m\u001b[0m\u001b[0m\n\u001b[0m",
      "\u001b[1;31mNameError\u001b[0m: name 'c' is not defined"
     ]
    }
   ],
   "source": [
    "def my_function():\n",
    "    c = 2 + 3\n",
    "    return c\n",
    "    \n",
    "x = my_function()\n",
    "print(x)\n",
    "print(c)"
   ]
  },
  {
   "cell_type": "code",
   "execution_count": 30,
   "metadata": {},
   "outputs": [],
   "source": [
    "assert x == 5"
   ]
  },
  {
   "cell_type": "markdown",
   "metadata": {},
   "source": [
    "Create a function called `my_function` that takes two arguments/parameters. Then define the variable `c` being equal to the sum of these two numbers and return the variable c. Now define the variable `x` being equal to the function call with arguments 10 and 30. Print x."
   ]
  },
  {
   "cell_type": "code",
   "execution_count": 31,
   "metadata": {},
   "outputs": [
    {
     "name": "stdout",
     "output_type": "stream",
     "text": [
      "40\n"
     ]
    }
   ],
   "source": [
    "def my_function(number1, number2):\n",
    "    c = number1 + number2\n",
    "    return c\n",
    "\n",
    "x = my_function(10, 30)\n",
    "print(x)"
   ]
  },
  {
   "cell_type": "code",
   "execution_count": 32,
   "metadata": {},
   "outputs": [],
   "source": [
    "assert x == 40"
   ]
  },
  {
   "cell_type": "markdown",
   "metadata": {},
   "source": [
    "Create a function called `my_function` that takes two arguments/parameters and a third default argument/parameter equaling 100. Then define the variable `c` being equal to the sum of these three numbers and return the variable c. Define the variable `x` being equal to the function call with arguments 10 and 30. Define the variable `y` being equal to the function call with arguments 10, 30 and 100. **Do you understand why we can use two or three arguments? Do you understand the difference between x and y?**"
   ]
  },
  {
   "cell_type": "code",
   "execution_count": 33,
   "metadata": {},
   "outputs": [],
   "source": [
    "def my_function(num1, num2, num3=100):\n",
    "    c = num1 + num2 + num3\n",
    "    return c\n",
    "\n",
    "x = my_function(10, 30)\n",
    "y = my_function(10, 30, 100)"
   ]
  },
  {
   "cell_type": "code",
   "execution_count": 34,
   "metadata": {},
   "outputs": [],
   "source": [
    "assert x == 140\n",
    "assert y == 140"
   ]
  }
 ],
 "metadata": {
  "kernelspec": {
   "display_name": "Python 3",
   "language": "python",
   "name": "python3"
  },
  "language_info": {
   "codemirror_mode": {
    "name": "ipython",
    "version": 3
   },
   "file_extension": ".py",
   "mimetype": "text/x-python",
   "name": "python",
   "nbconvert_exporter": "python",
   "pygments_lexer": "ipython3",
   "version": "3.8.5"
  }
 },
 "nbformat": 4,
 "nbformat_minor": 4
}
